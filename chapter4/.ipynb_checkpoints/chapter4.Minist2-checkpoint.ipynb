{
 "cells": [
  {
   "cell_type": "code",
   "execution_count": 1,
   "metadata": {
    "collapsed": false
   },
   "outputs": [
    {
     "name": "stderr",
     "output_type": "stream",
     "text": [
      "Using TensorFlow backend.\n"
     ]
    }
   ],
   "source": [
    "import os\n",
    "import numpy as np\n",
    "import keras \n",
    "import pprint\n",
    "from keras.datasets import mnist\n",
    "from keras.layers import Conv2D, MaxPooling2D, Dense, Dropout, Flatten, Input\n",
    "from keras.models import Sequential, Model\n",
    "import keras.backend as K\n",
    "\n",
    "import matplotlib.pyplot as plt\n",
    "%matplotlib inline"
   ]
  },
  {
   "cell_type": "markdown",
   "metadata": {},
   "source": [
    "# 加载手写字体\n",
    "\n",
    "从keras自带的数据库中加载mnist手写字体"
   ]
  },
  {
   "cell_type": "code",
   "execution_count": 2,
   "metadata": {
    "collapsed": false
   },
   "outputs": [],
   "source": [
    "img_rows, img_cols = (28,28)\n",
    "num_classes = 10\n",
    "\n",
    "def get_mnist_data():\n",
    "    \"\"\"\n",
    "    加载mnist手写字体数据集\n",
    "    \"\"\"\n",
    "    (x_train, y_train), (x_test, y_test) = mnist.load_data()\n",
    "    \n",
    "    x_train = x_train.reshape(x_train.shape[0], 1, img_rows, img_cols)\n",
    "    x_test = x_test.reshape(x_test.shape[0], 1, img_rows, img_cols)\n",
    "    \n",
    "    x_train = x_train.astype('float32')\n",
    "    x_test = x_test.astype('float32')\n",
    "    x_train /= 255\n",
    "    x_test /= 255\n",
    "    \n",
    "    y_train = keras.utils.to_categorical(y_train, num_classes)\n",
    "    y_test = keras.utils.to_categorical(y_test, num_classes)\n",
    "    \n",
    "    return x_train, y_train, x_test, y_test\n",
    "\n",
    "# x_train, y_train, x_test, y_test = get_mnist_data()\n",
    "# print('x_train shape:', x_train.shape)\n",
    "# print('x_test shape:', x_test.shape)"
   ]
  },
  {
   "cell_type": "markdown",
   "metadata": {},
   "source": [
    "# LetNet5 网络模型架构"
   ]
  },
  {
   "cell_type": "code",
   "execution_count": 6,
   "metadata": {
    "collapsed": false
   },
   "outputs": [
    {
     "name": "stdout",
     "output_type": "stream",
     "text": [
      "Model loaded.\n",
      "_________________________________________________________________\n",
      "Layer (type)                 Output Shape              Param #   \n",
      "=================================================================\n",
      "input_4 (InputLayer)         (None, 28, 28, 1)         0         \n",
      "_________________________________________________________________\n",
      "conv1 (Conv2D)               (None, 28, 28, 32)        320       \n",
      "_________________________________________________________________\n",
      "pool1 (MaxPooling2D)         (None, 14, 14, 32)        0         \n",
      "_________________________________________________________________\n",
      "conv2 (Conv2D)               (None, 10, 10, 64)        51264     \n",
      "_________________________________________________________________\n",
      "pool2 (MaxPooling2D)         (None, 5, 5, 64)          0         \n",
      "_________________________________________________________________\n",
      "dropout_7 (Dropout)          (None, 5, 5, 64)          0         \n",
      "_________________________________________________________________\n",
      "flatten (Flatten)            (None, 1600)              0         \n",
      "_________________________________________________________________\n",
      "fc1 (Dense)                  (None, 120)               192120    \n",
      "_________________________________________________________________\n",
      "dropout_8 (Dropout)          (None, 120)               0         \n",
      "_________________________________________________________________\n",
      "fc2 (Dense)                  (None, 84)                10164     \n",
      "_________________________________________________________________\n",
      "dropout_9 (Dropout)          (None, 84)                0         \n",
      "_________________________________________________________________\n",
      "predictions (Dense)          (None, 10)                850       \n",
      "=================================================================\n",
      "Total params: 254,718\n",
      "Trainable params: 254,718\n",
      "Non-trainable params: 0\n",
      "_________________________________________________________________\n"
     ]
    }
   ],
   "source": [
    "def LeNet5(w_path=None):\n",
    "    \n",
    "    input_shape = (img_rows, img_cols, 1)\n",
    "    img_input = Input(shape=input_shape)\n",
    "   \n",
    "    x = Conv2D(32, (3, 3), activation=\"relu\", padding=\"same\", name=\"conv1\")(img_input)\n",
    "    x = MaxPooling2D((2, 2), strides=(2, 2), name='pool1')(x)\n",
    "    x = Conv2D(64, (5, 5), activation=\"relu\", name='conv2')(x)\n",
    "    x = MaxPooling2D((2, 2), strides=(2, 2), name='pool2')(x)\n",
    "    x = Dropout(0.25)(x)\n",
    "    \n",
    "    x = Flatten(name='flatten')(x)\n",
    "    \n",
    "    x = Dense(120, activation='relu', name='fc1')(x)\n",
    "    x = Dropout(0.5)(x)\n",
    "    x = Dense(84, activation='relu', name='fc2')(x)\n",
    "    x = Dropout(0.5)(x)\n",
    "    x = Dense(10, activation='softmax', name='predictions')(x)\n",
    "    \n",
    "    model = Model(img_input, x, name='LeNet5')\n",
    "    if(w_path): model.load_weights(w_path)\n",
    "    \n",
    "    return model\n",
    "\n",
    "lenet5 = LeNet5()\n",
    "print('Model loaded.')\n",
    "lenet5.summary()"
   ]
  },
  {
   "cell_type": "markdown",
   "metadata": {},
   "source": [
    "# LeNet5 模型训练"
   ]
  },
  {
   "cell_type": "code",
   "execution_count": 12,
   "metadata": {
    "collapsed": false
   },
   "outputs": [
    {
     "name": "stdout",
     "output_type": "stream",
     "text": [
      "Train on 60000 samples, validate on 10000 samples\n",
      "Epoch 1/30\n",
      "60000/60000 [==============================] - 6s 95us/step - loss: 0.0618 - acc: 0.9832 - val_loss: 0.0299 - val_acc: 0.9915\n",
      "Epoch 2/30\n",
      "60000/60000 [==============================] - 5s 88us/step - loss: 0.0591 - acc: 0.9844 - val_loss: 0.0272 - val_acc: 0.9920\n",
      "Epoch 3/30\n",
      "60000/60000 [==============================] - 5s 88us/step - loss: 0.0535 - acc: 0.9851 - val_loss: 0.0258 - val_acc: 0.9923\n",
      "Epoch 4/30\n",
      "60000/60000 [==============================] - 5s 88us/step - loss: 0.0527 - acc: 0.9858 - val_loss: 0.0243 - val_acc: 0.9929\n",
      "Epoch 5/30\n",
      "60000/60000 [==============================] - 5s 87us/step - loss: 0.0524 - acc: 0.9862 - val_loss: 0.0242 - val_acc: 0.9929\n",
      "Epoch 6/30\n",
      "60000/60000 [==============================] - 5s 88us/step - loss: 0.0495 - acc: 0.9867 - val_loss: 0.0243 - val_acc: 0.9930\n",
      "Epoch 7/30\n",
      "60000/60000 [==============================] - 5s 88us/step - loss: 0.0472 - acc: 0.9873 - val_loss: 0.0263 - val_acc: 0.9915\n",
      "Epoch 8/30\n",
      "60000/60000 [==============================] - 5s 86us/step - loss: 0.0455 - acc: 0.9875 - val_loss: 0.0246 - val_acc: 0.9923\n",
      "Epoch 9/30\n",
      "60000/60000 [==============================] - 5s 83us/step - loss: 0.0449 - acc: 0.9875 - val_loss: 0.0239 - val_acc: 0.9934\n",
      "Epoch 10/30\n",
      "60000/60000 [==============================] - 5s 85us/step - loss: 0.0434 - acc: 0.9887 - val_loss: 0.0212 - val_acc: 0.9938\n",
      "Epoch 11/30\n",
      "60000/60000 [==============================] - 5s 87us/step - loss: 0.0424 - acc: 0.9884 - val_loss: 0.0213 - val_acc: 0.9937\n",
      "Epoch 12/30\n",
      "60000/60000 [==============================] - 5s 89us/step - loss: 0.0399 - acc: 0.9895 - val_loss: 0.0228 - val_acc: 0.9926\n",
      "Epoch 13/30\n",
      "60000/60000 [==============================] - 5s 88us/step - loss: 0.0424 - acc: 0.9885 - val_loss: 0.0215 - val_acc: 0.9936\n",
      "Epoch 14/30\n",
      "60000/60000 [==============================] - 5s 88us/step - loss: 0.0394 - acc: 0.9896 - val_loss: 0.0218 - val_acc: 0.9933\n",
      "Epoch 15/30\n",
      "60000/60000 [==============================] - 5s 88us/step - loss: 0.0406 - acc: 0.9891 - val_loss: 0.0229 - val_acc: 0.9932\n",
      "Epoch 16/30\n",
      "60000/60000 [==============================] - 5s 90us/step - loss: 0.0376 - acc: 0.9899 - val_loss: 0.0206 - val_acc: 0.9940\n",
      "Epoch 17/30\n",
      "60000/60000 [==============================] - 5s 89us/step - loss: 0.0371 - acc: 0.9895 - val_loss: 0.0209 - val_acc: 0.9942\n",
      "Epoch 18/30\n",
      "60000/60000 [==============================] - 5s 88us/step - loss: 0.0366 - acc: 0.9902 - val_loss: 0.0231 - val_acc: 0.9936\n",
      "Epoch 19/30\n",
      "60000/60000 [==============================] - 5s 87us/step - loss: 0.0353 - acc: 0.9900 - val_loss: 0.0205 - val_acc: 0.9942\n",
      "Epoch 20/30\n",
      "60000/60000 [==============================] - 5s 88us/step - loss: 0.0358 - acc: 0.9909 - val_loss: 0.0229 - val_acc: 0.9931\n",
      "Epoch 21/30\n",
      "60000/60000 [==============================] - 5s 88us/step - loss: 0.0332 - acc: 0.9909 - val_loss: 0.0193 - val_acc: 0.9943\n",
      "Epoch 22/30\n",
      "60000/60000 [==============================] - 5s 88us/step - loss: 0.0354 - acc: 0.9905 - val_loss: 0.0189 - val_acc: 0.9949\n",
      "Epoch 23/30\n",
      "60000/60000 [==============================] - 5s 87us/step - loss: 0.0335 - acc: 0.9907 - val_loss: 0.0205 - val_acc: 0.9949\n",
      "Epoch 24/30\n",
      "60000/60000 [==============================] - 5s 87us/step - loss: 0.0338 - acc: 0.9904 - val_loss: 0.0190 - val_acc: 0.9948\n",
      "Epoch 25/30\n",
      "60000/60000 [==============================] - 5s 87us/step - loss: 0.0329 - acc: 0.9906 - val_loss: 0.0203 - val_acc: 0.9940\n",
      "Epoch 26/30\n",
      "60000/60000 [==============================] - 5s 86us/step - loss: 0.0315 - acc: 0.9914 - val_loss: 0.0210 - val_acc: 0.9945\n",
      "Epoch 27/30\n",
      "60000/60000 [==============================] - 5s 86us/step - loss: 0.0312 - acc: 0.9914 - val_loss: 0.0212 - val_acc: 0.9944\n",
      "Epoch 28/30\n",
      "60000/60000 [==============================] - 5s 87us/step - loss: 0.0320 - acc: 0.9912 - val_loss: 0.0231 - val_acc: 0.9933\n",
      "Epoch 29/30\n",
      "60000/60000 [==============================] - 5s 86us/step - loss: 0.0310 - acc: 0.9919 - val_loss: 0.0190 - val_acc: 0.9948\n",
      "Epoch 30/30\n",
      "60000/60000 [==============================] - 5s 88us/step - loss: 0.0322 - acc: 0.9918 - val_loss: 0.0197 - val_acc: 0.9953\n",
      "Test loss: 0.0197388240156\n",
      "Test accuracy: 0.9953\n"
     ]
    }
   ],
   "source": [
    "from keras.callbacks import ModelCheckpoint\n",
    "\n",
    "if not os.path.exists('lenet5_checkpoints'):\n",
    "    os.mkdir('lenet5_checkpoints')\n",
    "    \n",
    "lenet5.compile(loss=keras.losses.categorical_crossentropy,\n",
    "              optimizer=keras.optimizers.Adadelta(),\n",
    "              metrics=['accuracy'])\n",
    "\n",
    "checkpoint = ModelCheckpoint(monitor='val_acc', \n",
    "                             filepath = 'lenet5_checkpoints/model_{epoch:02d}_{val_acc:.3f}.h5',\n",
    "                             save_best_only = True)\n",
    "\n",
    "lenet5.fit(x_train, y_train,\n",
    "         batch_size = 128,\n",
    "         epochs = 30,\n",
    "         verbose = 1,\n",
    "         validation_data = (x_test, y_test),\n",
    "         callbacks = [checkpoint])\n",
    "\n",
    "score = lenet5.evaluate(x_test, y_test, verbose = 0)\n",
    "print('Test loss:', score[0])\n",
    "print('Test accuracy:', score[1])"
   ]
  },
  {
   "cell_type": "code",
   "execution_count": 39,
   "metadata": {
    "collapsed": false
   },
   "outputs": [
    {
     "name": "stdout",
     "output_type": "stream",
     "text": [
      "             precision    recall  f1-score   support\n",
      "\n",
      "          0       0.07      0.02      0.03       980\n",
      "          1       0.00      0.00      0.00      1135\n",
      "          2       0.11      0.93      0.20      1032\n",
      "          3       0.02      0.02      0.02      1010\n",
      "          4       0.76      0.01      0.03       982\n",
      "          5       0.00      0.00      0.00       892\n",
      "          6       0.00      0.00      0.00       958\n",
      "          7       0.00      0.00      0.00      1028\n",
      "          8       0.00      0.00      0.00       974\n",
      "          9       0.21      0.08      0.11      1009\n",
      "\n",
      "avg / total       0.12      0.11      0.04     10000\n",
      "\n"
     ]
    },
    {
     "name": "stderr",
     "output_type": "stream",
     "text": [
      "/home/zomi/anaconda3/lib/python3.6/site-packages/sklearn/metrics/classification.py:1135: UndefinedMetricWarning: Precision and F-score are ill-defined and being set to 0.0 in labels with no predicted samples.\n",
      "  'precision', 'predicted', average, warn_for)\n"
     ]
    }
   ],
   "source": [
    "from sklearn.metrics import classification_report\n",
    "\n",
    "y_pred = lenet5.predict(x_test)\n",
    "y_pred = np.argmax(y_pred, axis = 1)\n",
    "y_test = np.argmax(y_test, axis = 1)\n",
    "print(classification_report(y_test, y_pred))"
   ]
  },
  {
   "cell_type": "markdown",
   "metadata": {
    "collapsed": true
   },
   "source": [
    "# 可视化过程"
   ]
  },
  {
   "cell_type": "code",
   "execution_count": 156,
   "metadata": {
    "collapsed": false,
    "scrolled": true
   },
   "outputs": [
    {
     "name": "stdout",
     "output_type": "stream",
     "text": [
      "_________________________________________________________________\n",
      "Layer (type)                 Output Shape              Param #   \n",
      "=================================================================\n",
      "input_7 (InputLayer)         (None, 1, 28, 28)         0         \n",
      "_________________________________________________________________\n",
      "conv1 (Conv2D)               (None, 32, 28, 28)        320       \n",
      "_________________________________________________________________\n",
      "pool1 (MaxPooling2D)         (None, 32, 13, 13)        0         \n",
      "_________________________________________________________________\n",
      "conv2 (Conv2D)               (None, 64, 13, 13)        18496     \n",
      "_________________________________________________________________\n",
      "pool2 (MaxPooling2D)         (None, 64, 6, 6)          0         \n",
      "_________________________________________________________________\n",
      "dropout_19 (Dropout)         (None, 64, 6, 6)          0         \n",
      "_________________________________________________________________\n",
      "flatten (Flatten)            (None, 2304)              0         \n",
      "_________________________________________________________________\n",
      "fc1 (Dense)                  (None, 128)               295040    \n",
      "_________________________________________________________________\n",
      "dropout_20 (Dropout)         (None, 128)               0         \n",
      "_________________________________________________________________\n",
      "fc2 (Dense)                  (None, 128)               16512     \n",
      "_________________________________________________________________\n",
      "dropout_21 (Dropout)         (None, 128)               0         \n",
      "_________________________________________________________________\n",
      "predictions (Dense)          (None, 10)                1290      \n",
      "=================================================================\n",
      "Total params: 331,658\n",
      "Trainable params: 331,658\n",
      "Non-trainable params: 0\n",
      "_________________________________________________________________\n",
      "10000/10000 [==============================] - 1s 61us/step\n",
      "Test loss: 0.0197388240156\n",
      "Test accuracy: 0.9953\n"
     ]
    }
   ],
   "source": [
    "lenet5 = LeNet5()\n",
    "lenet5.compile(optimizer='adam', \n",
    "               loss='categorical_crossentropy', \n",
    "               metrics=['accuracy'])\n",
    "\n",
    "lenet5.summary()\n",
    "\n",
    "x_train, y_train, x_test, y_test = get_mnist_data()\n",
    "test_loss, test_acc = lenet5.evaluate(x_test, y_test, verbose=1, batch_size=128)\n",
    "print('Test loss:', score[0])\n",
    "print('Test accuracy:', score[1])"
   ]
  },
  {
   "cell_type": "code",
   "execution_count": 157,
   "metadata": {
    "collapsed": false
   },
   "outputs": [
    {
     "name": "stdout",
     "output_type": "stream",
     "text": [
      "1144\n",
      "1144 label:[ 0.  0.  0.  1.  0.  0.  0.  0.  0.  0.]\n"
     ]
    },
    {
     "data": {
      "image/png": "[encoded data removed]",
      "text/plain": [
       "<matplotlib.figure.Figure at 0x7f590e28c320>"
      ]
     },
     "metadata": {},
     "output_type": "display_data"
    }
   ],
   "source": [
    "i = np.random.choice(x_test.shape[0])\n",
    "print(i)\n",
    "plt.imshow(x_test[i, 0], interpolation='None', cmap='gray')\n",
    "print(\"{} label:{}\".format(i, y_train[i,:]))"
   ]
  },
  {
   "cell_type": "code",
   "execution_count": 158,
   "metadata": {
    "collapsed": false
   },
   "outputs": [
    {
     "name": "stdout",
     "output_type": "stream",
     "text": [
      "(3, 3, 1, 32)\n",
      "(3, 3, 32)\n"
     ]
    }
   ],
   "source": [
    "layer1 = lenet5.get_layer(\"conv1\")\n",
    "\n",
    "\n",
    "w = layer1.get_weights()\n",
    "print(w[0].shape)\n",
    "print(np.squeeze(w[0]).shape)\n",
    "\n",
    "# plt.figure(figsize=(15,15))\n",
    "# plt.title(\"Conv1 weights\")"
   ]
  },
  {
   "cell_type": "code",
   "execution_count": 181,
   "metadata": {
    "collapsed": false
   },
   "outputs": [
    {
     "name": "stdout",
     "output_type": "stream",
     "text": [
      "[<tf.Tensor 'input_7:0' shape=(?, 1, 28, 28) dtype=float32>,\n",
      " <tf.Tensor 'conv1_6/Relu:0' shape=(?, 32, 28, 28) dtype=float32>,\n",
      " <tf.Tensor 'pool1_6/MaxPool:0' shape=(?, 32, 13, 13) dtype=float32>,\n",
      " <tf.Tensor 'conv2_6/Relu:0' shape=(?, 64, 13, 13) dtype=float32>,\n",
      " <tf.Tensor 'pool2_6/MaxPool:0' shape=(?, 64, 6, 6) dtype=float32>,\n",
      " <tf.Tensor 'dropout_19/dropout/mul:0' shape=(?, 64, 6, 6) dtype=float32>,\n",
      " <tf.Tensor 'flatten_6/Reshape:0' shape=(?, ?) dtype=float32>,\n",
      " <tf.Tensor 'fc1_6/Relu:0' shape=(?, 128) dtype=float32>,\n",
      " <tf.Tensor 'dropout_20/dropout/mul:0' shape=(?, 128) dtype=float32>,\n",
      " <tf.Tensor 'fc2_6/Relu:0' shape=(?, 128) dtype=float32>,\n",
      " <tf.Tensor 'dropout_21/dropout/mul:0' shape=(?, 128) dtype=float32>,\n",
      " <tf.Tensor 'predictions_6/Softmax:0' shape=(?, 10) dtype=float32>]\n",
      "(1, 1, 28, 28)\n"
     ]
    }
   ],
   "source": [
    "def get_activations(model, model_input, layer_name = None):\n",
    "    activations = []\n",
    "    inp = [model.input]\n",
    "    \n",
    "    # 所有层的输出 \n",
    "    model_layers = [layer.output for layer in model.layers if \n",
    "               layer.name == layer_name or layer_name is None]\n",
    "    pprint.pprint(model_layers)\n",
    "    \n",
    "    newmodel_layers = []\n",
    "    newmodel_layers.append(model_layers[0])\n",
    "    newmodel_layers.append(model_layers[1])\n",
    "    newmodel_layers.append(model_layers[2])\n",
    "    newmodel_layers.append(model_layers[3])\n",
    "    newmodel_layers.append(model_layers[4])\n",
    "    newmodel_layers.append(model_layers[7])\n",
    "    newmodel_layers.append(model_layers[9])\n",
    "    newmodel_layers.append(model_layers[11])\n",
    "\n",
    "    funcs = [K.function(inp + [K.learning_phase()], [layer]) for layer in newmodel_layers]\n",
    "    \n",
    "    list_inputs = model_input.reshape(1,1,28,28)\n",
    "    print(list_inputs.shape)\n",
    "    \n",
    "        \n",
    "    layer_outputs = [func([list_inputs]) for func in funcs]\n",
    "    for activation in layer_outputs:\n",
    "        activations.append(activation)\n",
    "        \n",
    "    return activations\n",
    "\n",
    "activations = get_activations(lenet5, x_test[i])"
   ]
  },
  {
   "cell_type": "code",
   "execution_count": 306,
   "metadata": {
    "collapsed": false
   },
   "outputs": [
    {
     "name": "stdout",
     "output_type": "stream",
     "text": [
      "Displaying activation: 0 (1, 1, 28, 28)\n"
     ]
    },
    {
     "data": {
      "image/png": "[encoded data removed]",
      "text/plain": [
       "<matplotlib.figure.Figure at 0x7f59021b1e10>"
      ]
     },
     "metadata": {},
     "output_type": "display_data"
    },
    {
     "name": "stdout",
     "output_type": "stream",
     "text": [
      "Displaying activation: 1 (1, 32, 28, 28)\n"
     ]
    },
    {
     "data": {
      "image/png": "[encoded data removed]",
      "text/plain": [
       "<matplotlib.figure.Figure at 0x7f59026d16a0>"
      ]
     },
     "metadata": {},
     "output_type": "display_data"
    },
    {
     "name": "stdout",
     "output_type": "stream",
     "text": [
      "Displaying activation: 2 (1, 32, 13, 13)\n"
     ]
    },
    {
     "data": {
      "image/png": "[encoded data removed]",
      "text/plain": [
       "<matplotlib.figure.Figure at 0x7f5902670c18>"
      ]
     },
     "metadata": {},
     "output_type": "display_data"
    },
    {
     "name": "stdout",
     "output_type": "stream",
     "text": [
      "Displaying activation: 3 (1, 64, 13, 13)\n"
     ]
    },
    {
     "data": {
      "image/png": "[encoded data removed]",
      "text/plain": [
       "<matplotlib.figure.Figure at 0x7f5902670860>"
      ]
     },
     "metadata": {},
     "output_type": "display_data"
    },
    {
     "name": "stdout",
     "output_type": "stream",
     "text": [
      "Displaying activation: 4 (1, 64, 6, 6)\n"
     ]
    },
    {
     "data": {
      "image/png": "[encoded data removed]",
      "text/plain": [
       "<matplotlib.figure.Figure at 0x7f5902592cf8>"
      ]
     },
     "metadata": {},
     "output_type": "display_data"
    },
    {
     "name": "stdout",
     "output_type": "stream",
     "text": [
      "Displaying activation: 5 (1, 128)\n"
     ]
    },
    {
     "data": {
      "image/png": "[encoded data removed]",
      "text/plain": [
       "<matplotlib.figure.Figure at 0x7f59017c1be0>"
      ]
     },
     "metadata": {},
     "output_type": "display_data"
    },
    {
     "name": "stdout",
     "output_type": "stream",
     "text": [
      "Displaying activation: 6 (1, 128)\n"
     ]
    },
    {
     "data": {
      "image/png": "[encoded data removed]",
      "text/plain": [
       "<matplotlib.figure.Figure at 0x7f5901c51a58>"
      ]
     },
     "metadata": {},
     "output_type": "display_data"
    },
    {
     "name": "stdout",
     "output_type": "stream",
     "text": [
      "Displaying activation: 7 (1, 10)\n"
     ]
    },
    {
     "data": {
      "image/png": "[encoded data removed]",
      "text/plain": [
       "<matplotlib.figure.Figure at 0x7f59019f2cc0>"
      ]
     },
     "metadata": {},
     "output_type": "display_data"
    }
   ],
   "source": [
    "def display_tensor(tensors):\n",
    "    if tensors.shape == (1, 1, 28, 28):\n",
    "        tt = np.hstack(np.transpose(tensors[0], (0, 1, 2)))\n",
    "        plt.figure(figsize=(15,1))\n",
    "        plt.imshow(tt, interpolation='None', cmap='gray')\n",
    "        plt.show()\n",
    "    else:\n",
    "        tt = np.hstack(np.transpose(tensors[0], (0, 1, 2)))\n",
    "        plt.figure(figsize=(15,1))\n",
    "        plt.imshow(tt, interpolation='None', cmap='hot')\n",
    "        plt.show()        \n",
    "        \n",
    "def display_matrix(matrix):\n",
    "    num_activations = len(matrix)\n",
    "    tt = np.repeat(matrix, 10, axis=0)\n",
    "    \n",
    "    plt.figure(figsize=(20,2))\n",
    "    plt.imshow(tt, interpolation='None', cmap='hot')\n",
    "    plt.colorbar()\n",
    "    plt.show()\n",
    "\n",
    "    \n",
    "def display_activations(activations_tensor):\n",
    "    img_size = activations_tensor[0][0].shape[0]\n",
    "    assert img_size == 1, 'One image at a time to visualize!'\n",
    "\n",
    "    for i, activation_map in enumerate(activations_tensor):\n",
    "        print('Displaying activation: {} {}'.format(i, activation_map[0].shape))\n",
    "        activation_map = activation_map[0]\n",
    "        shape = activation_map.shape\n",
    "        if len(shape) == 4:\n",
    "            display_tensor(activation_map)\n",
    "            pass\n",
    "        if len(shape) == 2:\n",
    "            display_matrix(activation_map)\n",
    "        \n",
    "display_activations(activations)"
   ]
  },
  {
   "cell_type": "code",
   "execution_count": null,
   "metadata": {
    "collapsed": true
   },
   "outputs": [],
   "source": []
  },
  {
   "cell_type": "code",
   "execution_count": null,
   "metadata": {
    "collapsed": true
   },
   "outputs": [],
   "source": []
  }
 ],
 "metadata": {
  "kernelspec": {
   "display_name": "Python 3",
   "language": "python",
   "name": "python3"
  },
  "language_info": {
   "codemirror_mode": {
    "name": "ipython",
    "version": 3
   },
   "file_extension": ".py",
   "mimetype": "text/x-python",
   "name": "python",
   "nbconvert_exporter": "python",
   "pygments_lexer": "ipython3",
   "version": "3.6.0"
  }
 },
 "nbformat": 4,
 "nbformat_minor": 2
}
